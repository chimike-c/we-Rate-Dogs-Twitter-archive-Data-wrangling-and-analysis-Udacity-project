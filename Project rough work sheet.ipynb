{
 "cells": [
  {
   "cell_type": "markdown",
   "metadata": {},
   "source": [
    "In this project, we wrangle WeRateDogs Twitter data to create interesting and trustworthy analyses and visualizations. \n",
    "\n",
    "The Twitter archive is great, but it only contains very basic tweet information. Additional gathering, then assessing and cleaning was then carried out in order to carry out analysis and visualisations. Various tentative conclusions/inferences/observations will be derived from said analysis. \n",
    "\n",
    "The analysis carried out in this project is aimed at observing the accuracy of the neural network used to predict dog breeds from the tweets. \n",
    "Also the growth in the user interaction with WeRateDogs tweets with time. \n",
    "Also users favorite dog breeds (German sheperds, etc) \n",
    "Also, how many #1 predictions were right, and #2 predictions, etc , from the neural network... \n",
    "Also, rows with high prediction confidence...\n"
   ]
  },
  {
   "cell_type": "markdown",
   "metadata": {},
   "source": [
    "consumer_key = 'tHnJqndSUJl5KoaKjqo7c2g0M'\n",
    "consumer_secret = 'O1rXyVyXeqiCyp40USiEc8cC6eLLM8F8s7Lnq6QcfEp4xq7iQj'\n",
    "access_token = '999756097694158851-0t0tpnVtbZ3sP82ammNXTnySS6SmpUn'\n",
    "access_secret = 'iELjKWh0J2tw8P9ZqRLGtVbRaJuSMvq7COQBeo8whbShy'\n"
   ]
  },
  {
   "cell_type": "code",
   "execution_count": null,
   "metadata": {},
   "outputs": [],
   "source": [
    "df_twitterapi_new.extended_entities"
   ]
  },
  {
   "cell_type": "code",
   "execution_count": null,
   "metadata": {},
   "outputs": [],
   "source": [
    "df_twitterapi_new = df_twitterapi[['extended_entities','favorite_count','retweet_count']]"
   ]
  },
  {
   "cell_type": "code",
   "execution_count": null,
   "metadata": {},
   "outputs": [],
   "source": [
    "df_twitterapi_new.extended_entities"
   ]
  },
  {
   "cell_type": "code",
   "execution_count": null,
   "metadata": {},
   "outputs": [],
   "source": [
    "df_twitterapi_new = df_twitterapi_new[df_twitterapi_new.extended_entities.notnull()].reset_index()"
   ]
  },
  {
   "cell_type": "code",
   "execution_count": null,
   "metadata": {},
   "outputs": [],
   "source": []
  },
  {
   "cell_type": "code",
   "execution_count": null,
   "metadata": {},
   "outputs": [],
   "source": [
    "import re\n",
    "re.findall(r\"'id':\\s(\\w+)\", \"{'media': [{'id': 888554915546542081, 'id_str'..\")"
   ]
  },
  {
   "cell_type": "code",
   "execution_count": null,
   "metadata": {},
   "outputs": [],
   "source": []
  },
  {
   "cell_type": "code",
   "execution_count": null,
   "metadata": {},
   "outputs": [],
   "source": [
    "length = len(df_twitterapi_new.extended_entities)\n",
    "\n",
    "for i in range(length):\n",
    "    df_twitterapi_new.loc[i, \"tweet_id\"] = df_twitterapi_new.extended_entities[i]['media'][0]['id']"
   ]
  },
  {
   "cell_type": "code",
   "execution_count": null,
   "metadata": {},
   "outputs": [],
   "source": [
    "df_twitterapi_new['tweet_id']"
   ]
  },
  {
   "cell_type": "code",
   "execution_count": null,
   "metadata": {},
   "outputs": [],
   "source": [
    " df_twitterapi_new.extended_entities[1]['media'][0]['id']"
   ]
  },
  {
   "cell_type": "code",
   "execution_count": null,
   "metadata": {},
   "outputs": [],
   "source": [
    "df_twitterapi_new['tweet_id']"
   ]
  },
  {
   "cell_type": "code",
   "execution_count": null,
   "metadata": {},
   "outputs": [],
   "source": []
  },
  {
   "cell_type": "code",
   "execution_count": null,
   "metadata": {},
   "outputs": [],
   "source": [
    "df_twitterapi_new.extended_entities[0]['media']"
   ]
  },
  {
   "cell_type": "code",
   "execution_count": null,
   "metadata": {},
   "outputs": [],
   "source": [
    "df_twitterapi_new.extended_entities[0]"
   ]
  },
  {
   "cell_type": "code",
   "execution_count": null,
   "metadata": {},
   "outputs": [],
   "source": []
  },
  {
   "cell_type": "code",
   "execution_count": null,
   "metadata": {},
   "outputs": [],
   "source": []
  },
  {
   "cell_type": "code",
   "execution_count": null,
   "metadata": {},
   "outputs": [],
   "source": [
    "print(r\"'id':\\s(\\w+)\")"
   ]
  },
  {
   "cell_type": "code",
   "execution_count": null,
   "metadata": {},
   "outputs": [],
   "source": [
    "df_twitterapi_new.extended_entities.str.extract.s(r\"'id':\\s(\\w+)\", expand=True)"
   ]
  },
  {
   "cell_type": "code",
   "execution_count": null,
   "metadata": {},
   "outputs": [],
   "source": []
  },
  {
   "cell_type": "code",
   "execution_count": null,
   "metadata": {},
   "outputs": [],
   "source": []
  },
  {
   "cell_type": "code",
   "execution_count": null,
   "metadata": {},
   "outputs": [],
   "source": [
    "import glob\n",
    "\n",
    "\n",
    "\n",
    "\n",
    "df_list = []\n",
    "for ebert_review in glob.glob('tweet_json.txt'):\n",
    "    with open(tweet_json, encoding='utf-8') as file:\n",
    "        #tweet_data_id = file.readline()[:-54]\n",
    "        tweet_data_id = file.get('id')\n",
    "        # Your code here\n",
    "        #retweet_count = file.readline()[:-1]\n",
    "        retweet_count = file.get('retweet_count')\n",
    "        #favorite_count = file.read()\n",
    "        favorite_count = file.get('favorite_count')\n",
    "\n",
    "        # Append to list of dictionaries\n",
    "        df_list.append({'title': title,\n",
    "                        'retweet_count': retweet_count,\n",
    "                        'favorite_count': favorite_count})\n",
    "df = pd.DataFrame(df_list, columns = ['tweet_data_id', 'retweet_count', 'favorite_count'])"
   ]
  },
  {
   "cell_type": "code",
   "execution_count": null,
   "metadata": {},
   "outputs": [],
   "source": []
  },
  {
   "cell_type": "code",
   "execution_count": null,
   "metadata": {},
   "outputs": [],
   "source": []
  },
  {
   "cell_type": "code",
   "execution_count": null,
   "metadata": {},
   "outputs": [],
   "source": []
  },
  {
   "cell_type": "code",
   "execution_count": null,
   "metadata": {},
   "outputs": [],
   "source": []
  },
  {
   "cell_type": "code",
   "execution_count": null,
   "metadata": {},
   "outputs": [],
   "source": []
  },
  {
   "cell_type": "code",
   "execution_count": null,
   "metadata": {},
   "outputs": [],
   "source": []
  },
  {
   "cell_type": "code",
   "execution_count": null,
   "metadata": {},
   "outputs": [],
   "source": [
    "#df_1_cleaning2.rating_numerator.replace(27, 72)\n",
    "#df_1_cleaning2.loc[2335].rating_numerator.replace(1,9)\n",
    "\n",
    "\n",
    "#df_1_cleaning2.rating_numerator[df_1_cleaning2.loc[2335].rating_numerator] = 9 \n",
    "\n",
    "#df_1_cleaning2.loc[2335].rating_numerator\n",
    "\n",
    "#df_1_cleaning2.set_value('2335', 'rating_numerator', )\n"
   ]
  },
  {
   "cell_type": "code",
   "execution_count": null,
   "metadata": {},
   "outputs": [],
   "source": []
  },
  {
   "cell_type": "code",
   "execution_count": null,
   "metadata": {},
   "outputs": [],
   "source": [
    "df_2_cleaning1[(df_2_cleaning1.p1_dog == False) & (df_2_cleaning1.p2_dog == False) & (df_2_cleaning1.p3_dog == False)]"
   ]
  },
  {
   "cell_type": "code",
   "execution_count": null,
   "metadata": {},
   "outputs": [],
   "source": []
  },
  {
   "cell_type": "code",
   "execution_count": null,
   "metadata": {},
   "outputs": [],
   "source": []
  },
  {
   "cell_type": "code",
   "execution_count": null,
   "metadata": {},
   "outputs": [],
   "source": []
  },
  {
   "cell_type": "code",
   "execution_count": null,
   "metadata": {},
   "outputs": [],
   "source": [
    "#df_1_cleaning3 = pd.melt(df_1_cleaning2a, id_vars=['tweet_id', 'timestamp', 'text', 'rating_numerator','rating_denominator', 'name'], \n",
    "                          var_name='dog_stage')\n",
    "\n",
    "\n",
    "#df_1_cleaning2 = pd.melt(df_1_cleaning2, id_vars=['tweet_id', 'timestamp', 'source', 'text', 'expanded_urls', 'rating_numerator','rating_denominator', 'name'],\n",
    "                           #var_name='dog_stage', value_name='stage')\n",
    "\n",
    "#df_1_cleaning2 = df_1_cleaning2[df_1_cleaning2.dose != \"-\"]\n",
    "#treatments_clean['dose_start'], treatments_clean['dose_end'] = treatments_clean['dose'].str.split(' - ', 1).str\n",
    "#treatments_clean = treatments_clean.drop('dose', axis=1) "
   ]
  },
  {
   "cell_type": "code",
   "execution_count": null,
   "metadata": {},
   "outputs": [],
   "source": [
    "#df_1_cleaning3a = df_1_cleaning3[['tweet_id', 'timestamp', 'text', 'rating_numerator','rating_denominator', 'name', 'dog_stage']]"
   ]
  },
  {
   "cell_type": "code",
   "execution_count": null,
   "metadata": {},
   "outputs": [],
   "source": []
  },
  {
   "cell_type": "code",
   "execution_count": null,
   "metadata": {},
   "outputs": [],
   "source": []
  },
  {
   "cell_type": "markdown",
   "metadata": {},
   "source": [
    "exteneded entities id extraction code"
   ]
  },
  {
   "cell_type": "code",
   "execution_count": null,
   "metadata": {},
   "outputs": [],
   "source": [
    "length = len(df_twitterapi_new.extended_entities)\n",
    "\n",
    "for i in range(length):\n",
    "    df_twitterapi_new.loc[i, \"tweet_id\"] = df_twitterapi_new.extended_entities[i]['media'][0]['id']"
   ]
  },
  {
   "cell_type": "code",
   "execution_count": null,
   "metadata": {},
   "outputs": [],
   "source": [
    "df_twitterapi_new_cleaning1 = df_twitterapi_new[['tweet_id','favorite_count','retweet_count']]"
   ]
  },
  {
   "cell_type": "code",
   "execution_count": null,
   "metadata": {},
   "outputs": [],
   "source": [
    "df_1_cleaning2.loc[df_1_cleaning2.rating_numerator == 165]"
   ]
  },
  {
   "cell_type": "code",
   "execution_count": null,
   "metadata": {},
   "outputs": [],
   "source": [
    "df_1_cleaning2.loc[902].text"
   ]
  },
  {
   "cell_type": "code",
   "execution_count": null,
   "metadata": {},
   "outputs": [],
   "source": [
    "df_1_cleaning2.loc[df_1_cleaning2.rating_numerator == 0]"
   ]
  },
  {
   "cell_type": "code",
   "execution_count": null,
   "metadata": {},
   "outputs": [],
   "source": [
    "df_1_cleaning2.loc[315].text"
   ]
  },
  {
   "cell_type": "code",
   "execution_count": null,
   "metadata": {},
   "outputs": [],
   "source": [
    "df_twitterapi_clean2.loc[df_twitterapi_clean2.tweet_id == 759446261539934208] "
   ]
  },
  {
   "cell_type": "code",
   "execution_count": null,
   "metadata": {},
   "outputs": [],
   "source": [
    "df_twitterapi_clean2.loc[df_twitterapi_clean2.tweet_id == 676942428000112642] "
   ]
  },
  {
   "cell_type": "code",
   "execution_count": null,
   "metadata": {},
   "outputs": [],
   "source": []
  },
  {
   "cell_type": "code",
   "execution_count": null,
   "metadata": {},
   "outputs": [],
   "source": [
    "Tidness Issue #1:¶\n",
    "new tweet_id column should be created/extracted from extended_entities column (df_twitterapi_new) ...\n",
    "\n",
    "Define\n",
    "extract tweet ids from the extended entities column data (Extract tweet IDs data from the extended_entities column in the df_twitterapi_new table, to form and replace the former column in the table. Using string extarct function...)\n",
    "\n",
    "Code\n",
    "#\n",
    "#length = len(df_twitterapi_new.extended_entities)\n",
    "​\n",
    "#for i in range(length):\n",
    "    #df_twitterapi_new.loc[i, \"tweet_id\"] = df_twitterapi_new.extended_entities[i]['media'][0]['id']\n",
    "this second bit of code is used to drop the extended entities column as the useful info has been extracted from it...\n",
    "\n",
    "#\n",
    "#df_twitterapi_new_cleaning1 = df_twitterapi_new[['tweet_id','favorite_count','retweet_count']]\n",
    "Test\n",
    "#\n",
    "#df_twitterapi_new_cleaning1\n",
    "tweet_id\tfavorite_count\tretweet_count\n",
    "0\t8.924206e+17\t33655\t6955\n",
    "1\t8.921774e+17\t29182\t5263\n",
    "2\t8.918152e+17\t21951\t3463\n",
    "3\t8.916896e+17\t36726\t7178\n",
    "4\t8.913276e+17\t35126\t7706\n",
    "5\t8.910879e+17\t17724\t2579\n",
    "6\t8.909719e+17\t10302\t1643\n",
    "7\t8.907291e+17\t56579\t15660\n",
    "8\t8.906092e+17\t24383\t3597\n",
    "9\t8.902402e+17\t27805\t6055\n",
    "10\t8.900066e+17\t26905\t6102\n",
    "11\t8.898809e+17\t24440\t4132\n",
    "12\t8.896654e+17\t41819\t8287\n",
    "13\t8.896388e+17\t23543\t3694\n",
    "14\t8.895311e+17\t13291\t1873\n",
    "15\t8.892788e+17\t21992\t4412\n",
    "16\t8.889172e+17\t25497\t3738\n",
    "17\t8.888050e+17\t22351\t3507\n",
    "18\t8.885549e+17\t17229\t2858\n",
    "19\t8.880784e+17\t19071\t2880\n",
    "20\t8.877053e+17\t26487\t4512\n",
    "21\t8.875171e+17\t40534\t9796\n",
    "22\t8.874739e+17\t59886\t14935\n",
    "23\t8.873431e+17\t29445\t8761\n",
    "24\t8.871014e+17\t26864\t4964\n",
    "25\t8.869832e+17\t30187\t6275\n",
    "26\t8.867369e+17\t10444\t2609\n",
    "27\t8.866803e+17\t19633\t3713\n",
    "28\t8.863661e+17\t18448\t2611\n",
    "29\t8.862584e+17\t24413\t5241\n",
    "...\t...\t...\t...\n",
    "687\t7.624645e+17\t9602\t3801\n",
    "688\t7.623165e+17\t4487\t1026\n",
    "689\t7.620356e+17\t29666\t14203\n",
    "690\t7.619767e+17\t5013\t1811\n",
    "691\t6.853251e+17\t0\t3564\n",
    "692\t7.617453e+17\t4000\t788\n",
    "693\t7.616728e+17\t46067\t26562\n",
    "694\t7.615999e+17\t3865\t1093\n",
    "695\t7.116948e+17\t0\t16547\n",
    "696\t7.613340e+17\t4809\t1332\n",
    "697\t7.612929e+17\t4170\t995\n",
    "698\t7.612274e+17\t4978\t1435\n",
    "699\t7.610045e+17\t10603\t3195\n",
    "700\t7.608939e+17\t3559\t883\n",
    "701\t7.606570e+17\t6151\t1736\n",
    "702\t7.606411e+17\t4649\t1182\n",
    "703\t7.605392e+17\t7045\t3315\n",
    "704\t7.602893e+17\t24968\t10507\n",
    "705\t7.602527e+17\t3690\t794\n",
    "706\t7.601902e+17\t5329\t1640\n",
    "707\t7.598463e+17\t6257\t1788\n",
    "708\t7.597934e+17\t5554\t1755\n",
    "709\t7.595573e+17\t4378\t1097\n",
    "710\t7.594477e+17\t7902\t2262\n",
    "711\t7.591974e+17\t5676\t1796\n",
    "712\t6.703191e+17\t0\t1064\n",
    "713\t7.590995e+17\t13565\t3793\n",
    "714\t7.590478e+17\t6042\t1838\n",
    "715\t7.588547e+17\t3310\t834\n",
    "716\t7.588286e+17\t10426\t3535\n",
    "717 rows × 3 columns\n",
    "\n",
    "Type Markdown and LaTeX: 𝛼2"
   ]
  }
 ],
 "metadata": {
  "kernelspec": {
   "display_name": "Python 3",
   "language": "python",
   "name": "python3"
  },
  "language_info": {
   "codemirror_mode": {
    "name": "ipython",
    "version": 3
   },
   "file_extension": ".py",
   "mimetype": "text/x-python",
   "name": "python",
   "nbconvert_exporter": "python",
   "pygments_lexer": "ipython3",
   "version": "3.6.3"
  }
 },
 "nbformat": 4,
 "nbformat_minor": 2
}
